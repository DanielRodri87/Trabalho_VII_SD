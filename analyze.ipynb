{
 "cells": [
  {
   "cell_type": "code",
   "execution_count": 1,
   "id": "0306a289",
   "metadata": {},
   "outputs": [],
   "source": [
    "import pandas as pd"
   ]
  },
  {
   "cell_type": "code",
   "execution_count": 5,
   "id": "fc8becda",
   "metadata": {},
   "outputs": [
    {
     "data": {
      "text/html": [
       "<div>\n",
       "<style scoped>\n",
       "    .dataframe tbody tr th:only-of-type {\n",
       "        vertical-align: middle;\n",
       "    }\n",
       "\n",
       "    .dataframe tbody tr th {\n",
       "        vertical-align: top;\n",
       "    }\n",
       "\n",
       "    .dataframe thead th {\n",
       "        text-align: right;\n",
       "    }\n",
       "</style>\n",
       "<table border=\"1\" class=\"dataframe\">\n",
       "  <thead>\n",
       "    <tr style=\"text-align: right;\">\n",
       "      <th></th>\n",
       "      <th>Cenário</th>\n",
       "      <th>Usuários</th>\n",
       "      <th>Média Latência (ms)</th>\n",
       "      <th>Máxima Latência (ms)</th>\n",
       "      <th>Requisições/s</th>\n",
       "      <th>Erros (%)</th>\n",
       "    </tr>\n",
       "  </thead>\n",
       "  <tbody>\n",
       "    <tr>\n",
       "      <th>0</th>\n",
       "      <td>Leve</td>\n",
       "      <td>50</td>\n",
       "      <td>19.74</td>\n",
       "      <td>1463.74</td>\n",
       "      <td>24.76</td>\n",
       "      <td>0.0000</td>\n",
       "    </tr>\n",
       "    <tr>\n",
       "      <th>1</th>\n",
       "      <td>Moderado</td>\n",
       "      <td>100</td>\n",
       "      <td>50.20</td>\n",
       "      <td>10082.75</td>\n",
       "      <td>48.75</td>\n",
       "      <td>53.9923</td>\n",
       "    </tr>\n",
       "    <tr>\n",
       "      <th>2</th>\n",
       "      <td>Pico</td>\n",
       "      <td>200</td>\n",
       "      <td>81.81</td>\n",
       "      <td>10174.99</td>\n",
       "      <td>96.09</td>\n",
       "      <td>68.8738</td>\n",
       "    </tr>\n",
       "  </tbody>\n",
       "</table>\n",
       "</div>"
      ],
      "text/plain": [
       "    Cenário  Usuários  Média Latência (ms)  Máxima Latência (ms)  \\\n",
       "0      Leve        50                19.74               1463.74   \n",
       "1  Moderado       100                50.20              10082.75   \n",
       "2      Pico       200                81.81              10174.99   \n",
       "\n",
       "   Requisições/s  Erros (%)  \n",
       "0          24.76     0.0000  \n",
       "1          48.75    53.9923  \n",
       "2          96.09    68.8738  "
      ]
     },
     "execution_count": 5,
     "metadata": {},
     "output_type": "execute_result"
    }
   ],
   "source": [
    "dataset = pd.read_csv('resultados_consolidados.csv')\n",
    "dataset.head(201)"
   ]
  }
 ],
 "metadata": {
  "kernelspec": {
   "display_name": "venv",
   "language": "python",
   "name": "python3"
  },
  "language_info": {
   "codemirror_mode": {
    "name": "ipython",
    "version": 3
   },
   "file_extension": ".py",
   "mimetype": "text/x-python",
   "name": "python",
   "nbconvert_exporter": "python",
   "pygments_lexer": "ipython3",
   "version": "3.12.3"
  }
 },
 "nbformat": 4,
 "nbformat_minor": 5
}
